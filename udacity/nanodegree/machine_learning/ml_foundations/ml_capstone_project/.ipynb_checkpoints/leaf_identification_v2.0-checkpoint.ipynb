{
 "cells": [
  {
   "cell_type": "code",
   "execution_count": 1,
   "metadata": {},
   "outputs": [
    {
     "ename": "SyntaxError",
     "evalue": "invalid syntax (<ipython-input-1-c8f5c31aaa67>, line 1)",
     "output_type": "error",
     "traceback": [
      "\u001b[1;36m  File \u001b[1;32m\"<ipython-input-1-c8f5c31aaa67>\"\u001b[1;36m, line \u001b[1;32m1\u001b[0m\n\u001b[1;33m    Item referenced:\u001b[0m\n\u001b[1;37m                  ^\u001b[0m\n\u001b[1;31mSyntaxError\u001b[0m\u001b[1;31m:\u001b[0m invalid syntax\n"
     ]
    }
   ],
   "source": [
    "Item referenced:\n",
    "            https://blog.keras.io/building-powerful-image-classification-models-using-very-little-data.html\n",
    "            https://github.com/keras-team/keras/issues/3296\n",
    "            https://www.codesofinterest.com/2017/08/bottleneck-features-multi-class-classification-keras.html\n",
    "            https://stackoverflow.com/questions/47535596/how-do-i-get-the-true-labels-when-i-use-a-imagedatagenerator-flow-from-directory?rq=1\n",
    "            https://stackoverflow.com/questions/45806669/keras-how-to-use-predict-generator-with-imagedatagenerator\n",
    "            https://keras.io/preprocessing/image/"
   ]
  },
  {
   "cell_type": "code",
   "execution_count": 2,
   "metadata": {},
   "outputs": [
    {
     "name": "stderr",
     "output_type": "stream",
     "text": [
      "C:\\Python27\\Lib\\site-packages\\h5py\\__init__.py:36: FutureWarning: Conversion of the second argument of issubdtype from `float` to `np.floating` is deprecated. In future, it will be treated as `np.float64 == np.dtype(float).type`.\n",
      "  from ._conv import register_converters as _register_converters\n",
      "Using CNTK backend\n",
      "C:\\Python27\\Lib\\site-packages\\keras\\backend\\cntk_backend.py:21: UserWarning: CNTK backend warning: GPU is not detected. CNTK's CPU version is not fully optimized,please run with GPU to get better performance.\n",
      "  'CNTK backend warning: GPU is not detected. '\n",
      "C:\\Python27\\Lib\\site-packages\\sklearn\\cross_validation.py:41: DeprecationWarning: This module was deprecated in version 0.18 in favor of the model_selection module into which all the refactored classes and functions are moved. Also note that the interface of the new CV iterators are different from that of this module. This module will be removed in 0.20.\n",
      "  \"This module will be removed in 0.20.\", DeprecationWarning)\n"
     ]
    }
   ],
   "source": [
    "# improt the nececssary packages and libraries\n",
    "import numpy as np\n",
    "from keras.preprocessing.image import ImageDataGenerator, img_to_array, load_img\n",
    "from keras.models import Sequential\n",
    "from keras.layers import Dropout, Flatten, Dense\n",
    "from keras import applications, optimizers\n",
    "from keras.utils.np_utils import to_categorical\n",
    "from sklearn.cross_validation import StratifiedKFold\n",
    "import matplotlib.pyplot as plt\n",
    "import math\n",
    "import cv2"
   ]
  },
  {
   "cell_type": "code",
   "execution_count": 32,
   "metadata": {},
   "outputs": [],
   "source": [
    "# dimensions of our images.  \n",
    "img_width, img_height =  150, 150\n",
    "\n",
    "top_model_weights_path = 'bottleneck_fc_model_weights.h5'\n",
    "top_model_save_path = 'bottleneck_fc_model.h5'\n",
    "train_data_dir = 'data/train'\n",
    "validation_data_dir = 'data/validation'\n",
    "\n",
    "# number of epochs to train top model  \n",
    "epochs = 50\n",
    "# batch size\n",
    "batch_size = 16\n",
    "# Hard coded sample sizes\n",
    "nb_train_samples = 496\n",
    "nb_validation_samples = 128\n",
    "n_folds = 3"
   ]
  },
  {
   "cell_type": "code",
   "execution_count": 33,
   "metadata": {},
   "outputs": [],
   "source": [
    "# This is a function to save the training data features and its labels with the Image Data generator\n",
    "def save_train_bottlebeck_features(p_train_data_dir, p_img_width, p_img_height, p_batch_size):\n",
    "    model = applications.VGG16(include_top=False, weights='imagenet')  \n",
    "    datagen = ImageDataGenerator(rescale=1. / 255)\n",
    "   \n",
    "    generator = datagen.flow_from_directory(  \n",
    "     p_train_data_dir,  \n",
    "     target_size=(p_img_width, p_img_height),  \n",
    "     batch_size=p_batch_size,  \n",
    "     class_mode=None,  \n",
    "     shuffle=False)  \n",
    "\n",
    "    l_nb_train_samples = len(generator.filenames)  \n",
    "    l_num_classes = len(generator.class_indices)\n",
    "    print(\"Train num classes \", l_num_classes)\n",
    "\n",
    "    predict_size_train = int(math.ceil(l_nb_train_samples / float(p_batch_size)))\n",
    "    print(\"predict_size_train is \", predict_size_train)\n",
    "    \n",
    "    bottleneck_features_train = model.predict_generator(  \n",
    "     generator, predict_size_train)\n",
    "    \n",
    "    print(\"bottleneck_features_train shape is \", bottleneck_features_train.shape)\n",
    "\n",
    "    np.save('bottleneck_features_train.npy', bottleneck_features_train) "
   ]
  },
  {
   "cell_type": "code",
   "execution_count": 34,
   "metadata": {},
   "outputs": [],
   "source": [
    "def save_validation_bottleneck_features(p_validation_data_dir, p_img_width, p_img_height, p_batch_size):\n",
    "    model = applications.VGG16(include_top=False, weights='imagenet')  \n",
    "    datagen = ImageDataGenerator(rescale=1. / 255)\n",
    "    \n",
    "    generator = datagen.flow_from_directory(  \n",
    "     p_validation_data_dir,  \n",
    "     target_size=(p_img_width, p_img_height),  \n",
    "     batch_size=p_batch_size,  \n",
    "     class_mode=None,  \n",
    "     shuffle=False)  \n",
    "\n",
    "    l_nb_validation_samples = len(generator.filenames)\n",
    "    l_num_classes = len(generator.class_indices)\n",
    "    print(\"Validation num classes \", l_num_classes)\n",
    "\n",
    "    predict_size_validation = int(math.ceil(l_nb_validation_samples / float(p_batch_size)))# The float is very important here,\n",
    "    # else the predict_generator produces smaller numpy array\n",
    "    print(\"predict_size_validation is \", predict_size_validation)\n",
    "\n",
    "    bottleneck_features_validation = model.predict_generator(  \n",
    "     generator, predict_size_validation)  \n",
    "    \n",
    "    print(\"bottleneck_features_validation shape is \", bottleneck_features_validation.shape)\n",
    "\n",
    "    np.save('bottleneck_features_validation.npy', bottleneck_features_validation)"
   ]
  },
  {
   "cell_type": "code",
   "execution_count": 35,
   "metadata": {},
   "outputs": [],
   "source": [
    "def train_and_evaluate_model(i_fold, train_data, train_labels, p_num_train_classes, validation_data, validation_labels, p_batch_size, p_epochs):\n",
    "    \n",
    "    l_num_classes = p_num_train_classes\n",
    "    model = None\n",
    "    model = Sequential()  \n",
    "    model.add(Flatten(input_shape=train_data.shape[1:]))  \n",
    "    model.add(Dense(256, activation='relu'))  \n",
    "    model.add(Dropout(0.5))  \n",
    "    model.add(Dense(l_num_classes, activation='sigmoid'))  \n",
    "\n",
    "    #model.compile(optimizer='rmsprop',  \n",
    "    #          loss='categorical_crossentropy', metrics=['accuracy'])\n",
    "    \n",
    "    model.compile(loss='binary_crossentropy',\n",
    "              optimizer=optimizers.SGD(lr=1e-4, momentum=0.9),\n",
    "              metrics=['accuracy'])\n",
    "\n",
    "    history = model.fit(train_data, train_labels,  \n",
    "          epochs=p_epochs,  \n",
    "          batch_size=p_batch_size,  \n",
    "          validation_data=(validation_data, validation_labels))  \n",
    "\n",
    "    model.save_weights(top_model_weights_path + str(i_fold))\n",
    "    model.save(top_model_save_path + str(i_fold))\n",
    "\n",
    "    (eval_loss, eval_accuracy) = model.evaluate(  \n",
    "     validation_data, validation_labels, batch_size=p_batch_size, verbose=1)\n",
    "\n",
    "    print(\"[INFO] accuracy: {:.2f}%\".format(eval_accuracy * 100))  \n",
    "    print(\"[INFO] Loss: {}\".format(eval_loss))\n",
    "    \n",
    "    plt.figure(1)  \n",
    "\n",
    "    # summarize history for accuracy  \n",
    "\n",
    "    plt.subplot(211)  \n",
    "    plt.plot(history.history['acc'])  \n",
    "    plt.plot(history.history['val_acc'])  \n",
    "    plt.title('model accuracy')  \n",
    "    plt.ylabel('accuracy')  \n",
    "    plt.xlabel('epoch')  \n",
    "    plt.legend(['train', 'test'], loc='upper left')  \n",
    "\n",
    "    # summarize history for loss  \n",
    "\n",
    "    plt.subplot(212)  \n",
    "    plt.plot(history.history['loss'])  \n",
    "    plt.plot(history.history['val_loss'])  \n",
    "    plt.title('model loss')  \n",
    "    plt.ylabel('loss')  \n",
    "    plt.xlabel('epoch')  \n",
    "    plt.legend(['train', 'test'], loc='upper left')  \n",
    "    plt.show()"
   ]
  },
  {
   "cell_type": "code",
   "execution_count": 36,
   "metadata": {},
   "outputs": [],
   "source": [
    "def train_top_model(p_train_data_dir, p_validation_data_dir, p_img_width, p_img_height, p_batch_size, p_epochs):\n",
    "    datagen_top = ImageDataGenerator(rescale=1./255)  \n",
    "    generator_top = datagen_top.flow_from_directory(  \n",
    "         p_train_data_dir,  \n",
    "         target_size=(p_img_width, p_img_height),  \n",
    "         batch_size=p_batch_size,  \n",
    "         class_mode='categorical',  \n",
    "         shuffle=False)  \n",
    "\n",
    "    l_nb_train_samples = len(generator_top.filenames)  \n",
    "    l_num_classes = len(generator_top.class_indices)  \n",
    "\n",
    "    # load the bottleneck features saved earlier  \n",
    "    train_data = np.load('bottleneck_features_train.npy')  \n",
    "\n",
    "    # get the class lebels for the training data, in the original order  \n",
    "    train_labels_b = generator_top.classes  \n",
    "    #print(train_labels_b)\n",
    "\n",
    "    # convert the training labels to categorical vectors  \n",
    "    train_labels = to_categorical(train_labels_b, num_classes=l_num_classes)\n",
    "    \n",
    "    generator_top = datagen_top.flow_from_directory(  \n",
    "         p_validation_data_dir,  \n",
    "         target_size=(p_img_width, p_img_height),  \n",
    "         batch_size=p_batch_size,  \n",
    "         class_mode=None,  \n",
    "         shuffle=False)  \n",
    "\n",
    "    l_nb_validation_samples = len(generator_top.filenames)  \n",
    "\n",
    "    validation_data = np.load('bottleneck_features_validation.npy')  \n",
    "\n",
    "    validation_labels = generator_top.classes  \n",
    "    validation_labels = to_categorical(validation_labels, num_classes=l_num_classes)\n",
    "    #print(train_labels.shape)\n",
    "    \n",
    "    skf = StratifiedKFold(train_labels_b, n_folds=n_folds, shuffle=True)\n",
    "\n",
    "    for i, (e_train, e_test) in enumerate(skf):\n",
    "            print \"Running Fold\", i+1, \"/\", n_folds\n",
    "            train_and_evaluate_model(i, train_data[e_train], train_labels[e_train], l_num_classes, train_data[e_test], train_labels[e_test], p_batch_size, p_epochs)"
   ]
  },
  {
   "cell_type": "code",
   "execution_count": 37,
   "metadata": {
    "scrolled": true
   },
   "outputs": [
    {
     "name": "stdout",
     "output_type": "stream",
     "text": [
      "Found 509 images belonging to 32 classes.\n",
      "Found 128 images belonging to 32 classes.\n",
      "Running Fold 1 / 3\n",
      "Train on 319 samples, validate on 190 samples\n",
      "Epoch 1/10\n",
      " 48/319 [===>..........................] - ETA: 0s - loss: 0.8037 - acc: 0.5085"
     ]
    },
    {
     "name": "stderr",
     "output_type": "stream",
     "text": [
      "C:\\Python27\\Lib\\site-packages\\cntk\\core.py:361: UserWarning: your data is of type \"float64\", but your input variable (uid \"Input622\") expects \"<type 'numpy.float32'>\". Please convert your data beforehand to speed up training.\n",
      "  (sample.dtype, var.uid, str(var.dtype)))\n"
     ]
    },
    {
     "name": "stdout",
     "output_type": "stream",
     "text": [
      "319/319 [==============================] - 1s 2ms/step - loss: 0.7484 - acc: 0.5475 - val_loss: 0.5985 - val_acc: 0.6595\n",
      "Epoch 2/10\n",
      "319/319 [==============================] - 1s 2ms/step - loss: 0.5885 - acc: 0.6831 - val_loss: 0.4598 - val_acc: 0.8650\n",
      "Epoch 3/10\n",
      "319/319 [==============================] - 1s 2ms/step - loss: 0.4767 - acc: 0.7832 - val_loss: 0.3819 - val_acc: 0.9342\n",
      "Epoch 4/10\n",
      "319/319 [==============================] - 1s 2ms/step - loss: 0.4237 - acc: 0.8289 - val_loss: 0.3338 - val_acc: 0.9559\n",
      "Epoch 5/10\n",
      "319/319 [==============================] - 1s 2ms/step - loss: 0.3835 - acc: 0.8530 - val_loss: 0.3001 - val_acc: 0.9653\n",
      "Epoch 6/10\n",
      "319/319 [==============================] - 1s 2ms/step - loss: 0.3618 - acc: 0.8716 - val_loss: 0.2738 - val_acc: 0.9683\n",
      "Epoch 7/10\n",
      "319/319 [==============================] - 1s 2ms/step - loss: 0.3365 - acc: 0.8870 - val_loss: 0.2527 - val_acc: 0.9686\n",
      "Epoch 8/10\n",
      "319/319 [==============================] - 1s 2ms/step - loss: 0.3140 - acc: 0.9016 - val_loss: 0.2355 - val_acc: 0.9688\n",
      "Epoch 9/10\n",
      "319/319 [==============================] - 1s 2ms/step - loss: 0.3035 - acc: 0.9013 - val_loss: 0.2217 - val_acc: 0.9688\n",
      "Epoch 10/10\n",
      "319/319 [==============================] - 1s 2ms/step - loss: 0.2909 - acc: 0.9088 - val_loss: 0.2104 - val_acc: 0.9688\n",
      "190/190 [==============================] - 0s 300us/step\n",
      "[INFO] accuracy: 96.88%\n",
      "[INFO] Loss: 0.210433049578\n"
     ]
    },
    {
     "data": {
      "image/png": "[encoded data removed]",
      "text/plain": [
       "<Figure size 432x288 with 2 Axes>"
      ]
     },
     "metadata": {},
     "output_type": "display_data"
    },
    {
     "name": "stdout",
     "output_type": "stream",
     "text": [
      "Running Fold 2 / 3\n",
      "Train on 349 samples, validate on 160 samples\n",
      "Epoch 1/10\n",
      " 48/349 [===>..........................] - ETA: 1s - loss: 0.8370 - acc: 0.4980"
     ]
    },
    {
     "name": "stderr",
     "output_type": "stream",
     "text": [
      "C:\\Python27\\Lib\\site-packages\\cntk\\core.py:361: UserWarning: your data is of type \"float64\", but your input variable (uid \"Input1032\") expects \"<type 'numpy.float32'>\". Please convert your data beforehand to speed up training.\n",
      "  (sample.dtype, var.uid, str(var.dtype)))\n"
     ]
    },
    {
     "name": "stdout",
     "output_type": "stream",
     "text": [
      "349/349 [==============================] - 1s 2ms/step - loss: 0.7772 - acc: 0.5428 - val_loss: 0.6173 - val_acc: 0.6961\n",
      "Epoch 2/10\n",
      "349/349 [==============================] - 1s 2ms/step - loss: 0.6108 - acc: 0.6725 - val_loss: 0.4817 - val_acc: 0.8299\n",
      "Epoch 3/10\n",
      "349/349 [==============================] - 1s 2ms/step - loss: 0.5063 - acc: 0.7579 - val_loss: 0.4045 - val_acc: 0.8947\n",
      "Epoch 4/10\n",
      "349/349 [==============================] - 1s 2ms/step - loss: 0.4463 - acc: 0.8094 - val_loss: 0.3557 - val_acc: 0.9336\n",
      "Epoch 5/10\n",
      "349/349 [==============================] - 1s 2ms/step - loss: 0.4080 - acc: 0.8397 - val_loss: 0.3202 - val_acc: 0.9432\n",
      "Epoch 6/10\n",
      "349/349 [==============================] - 1s 2ms/step - loss: 0.3841 - acc: 0.8532 - val_loss: 0.2917 - val_acc: 0.9512\n",
      "Epoch 7/10\n",
      "349/349 [==============================] - 1s 2ms/step - loss: 0.3578 - acc: 0.8703 - val_loss: 0.2690 - val_acc: 0.9621\n",
      "Epoch 8/10\n",
      "349/349 [==============================] - 1s 2ms/step - loss: 0.3407 - acc: 0.8792 - val_loss: 0.2502 - val_acc: 0.9680\n",
      "Epoch 9/10\n",
      "349/349 [==============================] - 1s 2ms/step - loss: 0.3265 - acc: 0.8865 - val_loss: 0.2347 - val_acc: 0.9686\n",
      "Epoch 10/10\n",
      "349/349 [==============================] - 1s 2ms/step - loss: 0.3124 - acc: 0.8983 - val_loss: 0.2217 - val_acc: 0.9688\n",
      "160/160 [==============================] - 0s 300us/step\n",
      "[INFO] accuracy: 96.88%\n",
      "[INFO] Loss: 0.221728937328\n"
     ]
    },
    {
     "data": {
      "image/png": "[encoded data removed]",
      "text/plain": [
       "<Figure size 432x288 with 2 Axes>"
      ]
     },
     "metadata": {},
     "output_type": "display_data"
    },
    {
     "name": "stdout",
     "output_type": "stream",
     "text": [
      "Running Fold 3 / 3\n",
      "Train on 350 samples, validate on 159 samples\n",
      "Epoch 1/10\n",
      " 48/350 [===>..........................] - ETA: 1s - loss: 0.8827 - acc: 0.4993"
     ]
    },
    {
     "name": "stderr",
     "output_type": "stream",
     "text": [
      "C:\\Python27\\Lib\\site-packages\\cntk\\core.py:361: UserWarning: your data is of type \"float64\", but your input variable (uid \"Input1442\") expects \"<type 'numpy.float32'>\". Please convert your data beforehand to speed up training.\n",
      "  (sample.dtype, var.uid, str(var.dtype)))\n"
     ]
    },
    {
     "name": "stdout",
     "output_type": "stream",
     "text": [
      "350/350 [==============================] - 1s 2ms/step - loss: 0.8240 - acc: 0.5219 - val_loss: 0.6628 - val_acc: 0.6073\n",
      "Epoch 2/10\n",
      "350/350 [==============================] - 1s 2ms/step - loss: 0.6409 - acc: 0.6481 - val_loss: 0.5086 - val_acc: 0.7848\n",
      "Epoch 3/10\n",
      "350/350 [==============================] - 1s 2ms/step - loss: 0.5251 - acc: 0.7429 - val_loss: 0.4204 - val_acc: 0.8815\n",
      "Epoch 4/10\n",
      "350/350 [==============================] - 1s 2ms/step - loss: 0.4537 - acc: 0.8027 - val_loss: 0.3660 - val_acc: 0.9296\n",
      "Epoch 5/10\n",
      "350/350 [==============================] - 1s 2ms/step - loss: 0.4103 - acc: 0.8337 - val_loss: 0.3273 - val_acc: 0.9517\n",
      "Epoch 6/10\n",
      "350/350 [==============================] - 1s 2ms/step - loss: 0.3812 - acc: 0.8528 - val_loss: 0.2981 - val_acc: 0.9621\n",
      "Epoch 7/10\n",
      "350/350 [==============================] - 1s 2ms/step - loss: 0.3576 - acc: 0.8771 - val_loss: 0.2743 - val_acc: 0.9674\n",
      "Epoch 8/10\n",
      "350/350 [==============================] - 1s 2ms/step - loss: 0.3449 - acc: 0.8778 - val_loss: 0.2543 - val_acc: 0.9686\n",
      "Epoch 9/10\n",
      "350/350 [==============================] - 1s 2ms/step - loss: 0.3241 - acc: 0.8884 - val_loss: 0.2373 - val_acc: 0.9688\n",
      "Epoch 10/10\n",
      "350/350 [==============================] - 1s 2ms/step - loss: 0.3115 - acc: 0.8970 - val_loss: 0.2228 - val_acc: 0.9688\n",
      "159/159 [==============================] - 0s 270us/step\n",
      "[INFO] accuracy: 96.88%\n",
      "[INFO] Loss: 0.222771773829\n"
     ]
    },
    {
     "data": {
      "image/png": "[encoded data removed]",
      "text/plain": [
       "<Figure size 432x288 with 2 Axes>"
      ]
     },
     "metadata": {},
     "output_type": "display_data"
    }
   ],
   "source": [
    "#save_train_bottlebeck_features(train_data_dir, img_width, img_height, batch_size)\n",
    "#save_validation_bottleneck_features(validation_data_dir, img_width, img_height, batch_size)\n",
    "train_top_model(train_data_dir, validation_data_dir, img_width, img_height, batch_size, epochs)"
   ]
  },
  {
   "cell_type": "code",
   "execution_count": null,
   "metadata": {},
   "outputs": [],
   "source": []
  }
 ],
 "metadata": {
  "kernelspec": {
   "display_name": "Python 2",
   "language": "python",
   "name": "python2"
  },
  "language_info": {
   "codemirror_mode": {
    "name": "ipython",
    "version": 2
   },
   "file_extension": ".py",
   "mimetype": "text/x-python",
   "name": "python",
   "nbconvert_exporter": "python",
   "pygments_lexer": "ipython2",
   "version": "2.7.10"
  }
 },
 "nbformat": 4,
 "nbformat_minor": 2
}
